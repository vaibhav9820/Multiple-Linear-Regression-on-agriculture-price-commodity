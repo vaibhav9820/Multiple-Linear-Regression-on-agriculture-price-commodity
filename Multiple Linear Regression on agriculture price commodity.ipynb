{
 "cells": [
  {
   "cell_type": "code",
   "execution_count": 1,
   "id": "fcb89fa4",
   "metadata": {},
   "outputs": [],
   "source": [
    "import numpy as np\n",
    "import pandas as pd\n",
    "import matplotlib.pyplot as plt\n",
    "import seaborn as sns"
   ]
  },
  {
   "cell_type": "code",
   "execution_count": 22,
   "id": "b9fd50f5",
   "metadata": {},
   "outputs": [
    {
     "name": "stderr",
     "output_type": "stream",
     "text": [
      "C:\\ProgramData\\Anaconda3\\lib\\site-packages\\pandas\\core\\tools\\datetimes.py:1063: UserWarning: Parsing '24/02/2023' in DD/MM/YYYY format. Provide format or specify infer_datetime_format=True for consistent parsing.\n",
      "  cache_array = _maybe_cache(arg, format, cache, convert_listlike)\n"
     ]
    }
   ],
   "source": [
    "df=pd.read_excel('Date-Wise-Prices-all-Commodity.xlsx',parse_dates=['Arrival_Date'])"
   ]
  },
  {
   "cell_type": "code",
   "execution_count": 23,
   "id": "00682e24",
   "metadata": {},
   "outputs": [
    {
     "name": "stdout",
     "output_type": "stream",
     "text": [
      "<class 'pandas.core.frame.DataFrame'>\n",
      "RangeIndex: 6435 entries, 0 to 6434\n",
      "Data columns (total 12 columns):\n",
      " #   Column             Non-Null Count  Dtype         \n",
      "---  ------             --------------  -----         \n",
      " 0   diffgr:id          6435 non-null   object        \n",
      " 1   msdata:rowOrder    6435 non-null   int64         \n",
      " 2   State              6435 non-null   object        \n",
      " 3   District           6435 non-null   object        \n",
      " 4   Market             6435 non-null   object        \n",
      " 5   Commodity          6435 non-null   object        \n",
      " 6   Variety            6435 non-null   object        \n",
      " 7   Grade              6435 non-null   object        \n",
      " 8   Arrival_Date       6435 non-null   datetime64[ns]\n",
      " 9   Min_x0020_Price    6435 non-null   int64         \n",
      " 10  Max_x0020_Price    6435 non-null   float64       \n",
      " 11  Modal_x0020_Price  6435 non-null   float64       \n",
      "dtypes: datetime64[ns](1), float64(2), int64(2), object(7)\n",
      "memory usage: 603.4+ KB\n"
     ]
    }
   ],
   "source": [
    "df.info()"
   ]
  },
  {
   "cell_type": "markdown",
   "id": "13f9e9ab",
   "metadata": {},
   "source": [
    "### Encoding"
   ]
  },
  {
   "cell_type": "code",
   "execution_count": 24,
   "id": "dbf0b324",
   "metadata": {},
   "outputs": [],
   "source": [
    "from sklearn.preprocessing import LabelEncoder\n",
    "le = LabelEncoder()"
   ]
  },
  {
   "cell_type": "code",
   "execution_count": 25,
   "id": "3075f0cf",
   "metadata": {},
   "outputs": [],
   "source": [
    "for i in df.select_dtypes(include=['object']).columns :\n",
    "    df[i]=le.fit_transform(df[i])"
   ]
  },
  {
   "cell_type": "markdown",
   "id": "c5087cc9",
   "metadata": {},
   "source": [
    "###  Separating data"
   ]
  },
  {
   "cell_type": "code",
   "execution_count": 27,
   "id": "3e2ad7ad",
   "metadata": {},
   "outputs": [
    {
     "data": {
      "text/html": [
       "<div>\n",
       "<style scoped>\n",
       "    .dataframe tbody tr th:only-of-type {\n",
       "        vertical-align: middle;\n",
       "    }\n",
       "\n",
       "    .dataframe tbody tr th {\n",
       "        vertical-align: top;\n",
       "    }\n",
       "\n",
       "    .dataframe thead th {\n",
       "        text-align: right;\n",
       "    }\n",
       "</style>\n",
       "<table border=\"1\" class=\"dataframe\">\n",
       "  <thead>\n",
       "    <tr style=\"text-align: right;\">\n",
       "      <th></th>\n",
       "      <th>diffgr:id</th>\n",
       "      <th>msdata:rowOrder</th>\n",
       "      <th>State</th>\n",
       "      <th>District</th>\n",
       "      <th>Market</th>\n",
       "      <th>Commodity</th>\n",
       "      <th>Variety</th>\n",
       "      <th>Grade</th>\n",
       "      <th>Min_x0020_Price</th>\n",
       "      <th>Max_x0020_Price</th>\n",
       "      <th>Modal_x0020_Price</th>\n",
       "    </tr>\n",
       "  </thead>\n",
       "  <tbody>\n",
       "    <tr>\n",
       "      <th>diffgr:id</th>\n",
       "      <td>1.000000</td>\n",
       "      <td>0.536427</td>\n",
       "      <td>0.455479</td>\n",
       "      <td>0.035917</td>\n",
       "      <td>0.018072</td>\n",
       "      <td>0.124802</td>\n",
       "      <td>-0.094891</td>\n",
       "      <td>0.080773</td>\n",
       "      <td>-0.080050</td>\n",
       "      <td>-0.081905</td>\n",
       "      <td>-0.082154</td>\n",
       "    </tr>\n",
       "    <tr>\n",
       "      <th>msdata:rowOrder</th>\n",
       "      <td>0.536427</td>\n",
       "      <td>1.000000</td>\n",
       "      <td>0.953202</td>\n",
       "      <td>-0.057360</td>\n",
       "      <td>-0.035466</td>\n",
       "      <td>0.089472</td>\n",
       "      <td>-0.155221</td>\n",
       "      <td>-0.012831</td>\n",
       "      <td>-0.052610</td>\n",
       "      <td>-0.059041</td>\n",
       "      <td>-0.056654</td>\n",
       "    </tr>\n",
       "    <tr>\n",
       "      <th>State</th>\n",
       "      <td>0.455479</td>\n",
       "      <td>0.953202</td>\n",
       "      <td>1.000000</td>\n",
       "      <td>-0.215786</td>\n",
       "      <td>-0.136969</td>\n",
       "      <td>0.082799</td>\n",
       "      <td>-0.168227</td>\n",
       "      <td>-0.009551</td>\n",
       "      <td>-0.058012</td>\n",
       "      <td>-0.064089</td>\n",
       "      <td>-0.061864</td>\n",
       "    </tr>\n",
       "    <tr>\n",
       "      <th>District</th>\n",
       "      <td>0.035917</td>\n",
       "      <td>-0.057360</td>\n",
       "      <td>-0.215786</td>\n",
       "      <td>1.000000</td>\n",
       "      <td>0.464565</td>\n",
       "      <td>-0.011076</td>\n",
       "      <td>0.040984</td>\n",
       "      <td>0.004834</td>\n",
       "      <td>0.048504</td>\n",
       "      <td>0.049864</td>\n",
       "      <td>0.049372</td>\n",
       "    </tr>\n",
       "    <tr>\n",
       "      <th>Market</th>\n",
       "      <td>0.018072</td>\n",
       "      <td>-0.035466</td>\n",
       "      <td>-0.136969</td>\n",
       "      <td>0.464565</td>\n",
       "      <td>1.000000</td>\n",
       "      <td>-0.009174</td>\n",
       "      <td>0.024392</td>\n",
       "      <td>0.024859</td>\n",
       "      <td>0.026602</td>\n",
       "      <td>0.027773</td>\n",
       "      <td>0.027199</td>\n",
       "    </tr>\n",
       "    <tr>\n",
       "      <th>Commodity</th>\n",
       "      <td>0.124802</td>\n",
       "      <td>0.089472</td>\n",
       "      <td>0.082799</td>\n",
       "      <td>-0.011076</td>\n",
       "      <td>-0.009174</td>\n",
       "      <td>1.000000</td>\n",
       "      <td>0.394052</td>\n",
       "      <td>-0.086877</td>\n",
       "      <td>-0.057800</td>\n",
       "      <td>-0.055536</td>\n",
       "      <td>-0.056932</td>\n",
       "    </tr>\n",
       "    <tr>\n",
       "      <th>Variety</th>\n",
       "      <td>-0.094891</td>\n",
       "      <td>-0.155221</td>\n",
       "      <td>-0.168227</td>\n",
       "      <td>0.040984</td>\n",
       "      <td>0.024392</td>\n",
       "      <td>0.394052</td>\n",
       "      <td>1.000000</td>\n",
       "      <td>0.059050</td>\n",
       "      <td>0.011300</td>\n",
       "      <td>0.011928</td>\n",
       "      <td>0.012004</td>\n",
       "    </tr>\n",
       "    <tr>\n",
       "      <th>Grade</th>\n",
       "      <td>0.080773</td>\n",
       "      <td>-0.012831</td>\n",
       "      <td>-0.009551</td>\n",
       "      <td>0.004834</td>\n",
       "      <td>0.024859</td>\n",
       "      <td>-0.086877</td>\n",
       "      <td>0.059050</td>\n",
       "      <td>1.000000</td>\n",
       "      <td>0.092676</td>\n",
       "      <td>0.093384</td>\n",
       "      <td>0.092692</td>\n",
       "    </tr>\n",
       "    <tr>\n",
       "      <th>Min_x0020_Price</th>\n",
       "      <td>-0.080050</td>\n",
       "      <td>-0.052610</td>\n",
       "      <td>-0.058012</td>\n",
       "      <td>0.048504</td>\n",
       "      <td>0.026602</td>\n",
       "      <td>-0.057800</td>\n",
       "      <td>0.011300</td>\n",
       "      <td>0.092676</td>\n",
       "      <td>1.000000</td>\n",
       "      <td>0.997647</td>\n",
       "      <td>0.999323</td>\n",
       "    </tr>\n",
       "    <tr>\n",
       "      <th>Max_x0020_Price</th>\n",
       "      <td>-0.081905</td>\n",
       "      <td>-0.059041</td>\n",
       "      <td>-0.064089</td>\n",
       "      <td>0.049864</td>\n",
       "      <td>0.027773</td>\n",
       "      <td>-0.055536</td>\n",
       "      <td>0.011928</td>\n",
       "      <td>0.093384</td>\n",
       "      <td>0.997647</td>\n",
       "      <td>1.000000</td>\n",
       "      <td>0.999362</td>\n",
       "    </tr>\n",
       "    <tr>\n",
       "      <th>Modal_x0020_Price</th>\n",
       "      <td>-0.082154</td>\n",
       "      <td>-0.056654</td>\n",
       "      <td>-0.061864</td>\n",
       "      <td>0.049372</td>\n",
       "      <td>0.027199</td>\n",
       "      <td>-0.056932</td>\n",
       "      <td>0.012004</td>\n",
       "      <td>0.092692</td>\n",
       "      <td>0.999323</td>\n",
       "      <td>0.999362</td>\n",
       "      <td>1.000000</td>\n",
       "    </tr>\n",
       "  </tbody>\n",
       "</table>\n",
       "</div>"
      ],
      "text/plain": [
       "                   diffgr:id  msdata:rowOrder     State  District    Market  \\\n",
       "diffgr:id           1.000000         0.536427  0.455479  0.035917  0.018072   \n",
       "msdata:rowOrder     0.536427         1.000000  0.953202 -0.057360 -0.035466   \n",
       "State               0.455479         0.953202  1.000000 -0.215786 -0.136969   \n",
       "District            0.035917        -0.057360 -0.215786  1.000000  0.464565   \n",
       "Market              0.018072        -0.035466 -0.136969  0.464565  1.000000   \n",
       "Commodity           0.124802         0.089472  0.082799 -0.011076 -0.009174   \n",
       "Variety            -0.094891        -0.155221 -0.168227  0.040984  0.024392   \n",
       "Grade               0.080773        -0.012831 -0.009551  0.004834  0.024859   \n",
       "Min_x0020_Price    -0.080050        -0.052610 -0.058012  0.048504  0.026602   \n",
       "Max_x0020_Price    -0.081905        -0.059041 -0.064089  0.049864  0.027773   \n",
       "Modal_x0020_Price  -0.082154        -0.056654 -0.061864  0.049372  0.027199   \n",
       "\n",
       "                   Commodity   Variety     Grade  Min_x0020_Price  \\\n",
       "diffgr:id           0.124802 -0.094891  0.080773        -0.080050   \n",
       "msdata:rowOrder     0.089472 -0.155221 -0.012831        -0.052610   \n",
       "State               0.082799 -0.168227 -0.009551        -0.058012   \n",
       "District           -0.011076  0.040984  0.004834         0.048504   \n",
       "Market             -0.009174  0.024392  0.024859         0.026602   \n",
       "Commodity           1.000000  0.394052 -0.086877        -0.057800   \n",
       "Variety             0.394052  1.000000  0.059050         0.011300   \n",
       "Grade              -0.086877  0.059050  1.000000         0.092676   \n",
       "Min_x0020_Price    -0.057800  0.011300  0.092676         1.000000   \n",
       "Max_x0020_Price    -0.055536  0.011928  0.093384         0.997647   \n",
       "Modal_x0020_Price  -0.056932  0.012004  0.092692         0.999323   \n",
       "\n",
       "                   Max_x0020_Price  Modal_x0020_Price  \n",
       "diffgr:id                -0.081905          -0.082154  \n",
       "msdata:rowOrder          -0.059041          -0.056654  \n",
       "State                    -0.064089          -0.061864  \n",
       "District                  0.049864           0.049372  \n",
       "Market                    0.027773           0.027199  \n",
       "Commodity                -0.055536          -0.056932  \n",
       "Variety                   0.011928           0.012004  \n",
       "Grade                     0.093384           0.092692  \n",
       "Min_x0020_Price           0.997647           0.999323  \n",
       "Max_x0020_Price           1.000000           0.999362  \n",
       "Modal_x0020_Price         0.999362           1.000000  "
      ]
     },
     "execution_count": 27,
     "metadata": {},
     "output_type": "execute_result"
    }
   ],
   "source": [
    "df.corr()"
   ]
  },
  {
   "cell_type": "code",
   "execution_count": 37,
   "id": "9b7bd5d8",
   "metadata": {},
   "outputs": [],
   "source": [
    "feature = df.iloc[:,9:11]\n",
    "target = df.iloc[:,-1]"
   ]
  },
  {
   "cell_type": "code",
   "execution_count": 38,
   "id": "d1b8b8af",
   "metadata": {},
   "outputs": [],
   "source": [
    "from sklearn.model_selection import train_test_split\n",
    "xtrain, xtest, ytrain, ytest = train_test_split(feature, target, test_size=0.2, random_state=123)"
   ]
  },
  {
   "cell_type": "markdown",
   "id": "cf15766f",
   "metadata": {},
   "source": [
    "###  Model"
   ]
  },
  {
   "cell_type": "code",
   "execution_count": 39,
   "id": "ef75b4ae",
   "metadata": {},
   "outputs": [],
   "source": [
    "from sklearn.linear_model import LinearRegression\n",
    "lr = LinearRegression()"
   ]
  },
  {
   "cell_type": "code",
   "execution_count": 40,
   "id": "9f2e0fec",
   "metadata": {},
   "outputs": [
    {
     "data": {
      "text/plain": [
       "LinearRegression()"
      ]
     },
     "execution_count": 40,
     "metadata": {},
     "output_type": "execute_result"
    }
   ],
   "source": [
    "lr.fit(xtrain,ytrain)"
   ]
  },
  {
   "cell_type": "code",
   "execution_count": 41,
   "id": "134ae239",
   "metadata": {},
   "outputs": [],
   "source": [
    "ypred = lr.predict(xtest)"
   ]
  },
  {
   "cell_type": "code",
   "execution_count": 42,
   "id": "862eac35",
   "metadata": {},
   "outputs": [],
   "source": [
    "ypredtrain = lr.predict(xtrain)"
   ]
  },
  {
   "cell_type": "markdown",
   "id": "21469bf7",
   "metadata": {},
   "source": [
    "###  Model Evaluation"
   ]
  },
  {
   "cell_type": "code",
   "execution_count": 43,
   "id": "f4517482",
   "metadata": {},
   "outputs": [],
   "source": [
    "from sklearn.metrics import r2_score"
   ]
  },
  {
   "cell_type": "code",
   "execution_count": 45,
   "id": "97b48990",
   "metadata": {},
   "outputs": [
    {
     "data": {
      "text/plain": [
       "0.9999375536164894"
      ]
     },
     "execution_count": 45,
     "metadata": {},
     "output_type": "execute_result"
    }
   ],
   "source": [
    "r2_score(ytest, ypred)"
   ]
  },
  {
   "cell_type": "code",
   "execution_count": 46,
   "id": "a8d08525",
   "metadata": {},
   "outputs": [
    {
     "data": {
      "text/plain": [
       "0.9998268629198293"
      ]
     },
     "execution_count": 46,
     "metadata": {},
     "output_type": "execute_result"
    }
   ],
   "source": [
    "r2_score(ytrain,ypredtrain)"
   ]
  },
  {
   "cell_type": "code",
   "execution_count": null,
   "id": "f0d9d007",
   "metadata": {},
   "outputs": [],
   "source": []
  }
 ],
 "metadata": {
  "kernelspec": {
   "display_name": "Python 3 (ipykernel)",
   "language": "python",
   "name": "python3"
  },
  "language_info": {
   "codemirror_mode": {
    "name": "ipython",
    "version": 3
   },
   "file_extension": ".py",
   "mimetype": "text/x-python",
   "name": "python",
   "nbconvert_exporter": "python",
   "pygments_lexer": "ipython3",
   "version": "3.9.12"
  }
 },
 "nbformat": 4,
 "nbformat_minor": 5
}
